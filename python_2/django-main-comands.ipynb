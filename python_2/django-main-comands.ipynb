{
 "cells": [
  {
   "cell_type": "markdown",
   "metadata": {},
   "source": [
    "Creacion de un nuevo proyecto"
   ]
  },
  {
   "cell_type": "code",
   "execution_count": null,
   "metadata": {},
   "outputs": [],
   "source": [
    "#!django-admin startproject <projectName>\n",
    "!django-admin startproject my_basic_example"
   ]
  },
  {
   "cell_type": "markdown",
   "metadata": {},
   "source": [
    "creacion de una nueva aplicacion dentro del proyecto\n"
   ]
  },
  {
   "cell_type": "code",
   "execution_count": null,
   "metadata": {},
   "outputs": [],
   "source": [
    "!cd my_basic_example\n",
    "!django-admin startapp web_page_example\n",
    "# No olvidar que para que django reconozca la aplicacion hay que añadirla en la variable INSTALLED_APPS \n",
    "# del archivo settings.py, dentro de la carpeta de configuraciones generales del proyecto:\n",
    "# INSTALLED_APPS = [\n",
    "#     'django.contrib.admin',\n",
    "#     'django.contrib.auth',\n",
    "#     'django.contrib.contenttypes',\n",
    "#     'django.contrib.sessions',\n",
    "#     'django.contrib.messages',\n",
    "#     'django.contrib.staticfiles',\n",
    "#     'web_page_example'\n",
    "# ]"
   ]
  },
  {
   "cell_type": "markdown",
   "metadata": {},
   "source": [
    "primera corrida del servicio"
   ]
  },
  {
   "cell_type": "code",
   "execution_count": null,
   "metadata": {},
   "outputs": [],
   "source": [
    "#dentro de la carpeta del proyecto, a nivel del archivo manage.py, es decir, la ruta base del proyecto\n",
    "!python manage.py runserver"
   ]
  },
  {
   "cell_type": "markdown",
   "metadata": {},
   "source": [
    "identificar creacion y cambios dentro de los archivos models.py de cada aplicación"
   ]
  },
  {
   "cell_type": "code",
   "execution_count": null,
   "metadata": {},
   "outputs": [],
   "source": [
    "!python manage.py makemigrations"
   ]
  },
  {
   "cell_type": "markdown",
   "metadata": {},
   "source": [
    "efectuar los cambios sobre la base de datos configuradas(por default SQLite3)"
   ]
  },
  {
   "cell_type": "code",
   "execution_count": null,
   "metadata": {},
   "outputs": [],
   "source": [
    "!python manage.python migrate"
   ]
  },
  {
   "cell_type": "markdown",
   "metadata": {},
   "source": [
    "Configurar nuevas rutas URL en el servicio"
   ]
  },
  {
   "cell_type": "code",
   "execution_count": null,
   "metadata": {},
   "outputs": [],
   "source": [
    "# ARCHIVO urls.py de la carpeta de configuraciones del proyecto\n",
    "from django.urls import include, path  \n",
    "\n",
    "urlpatterns = [\n",
    "    path('admin/', admin.site.urls),\n",
    "    path('', include('web_page_example.urls')),\n",
    "]\n"
   ]
  },
  {
   "cell_type": "code",
   "execution_count": null,
   "metadata": {},
   "outputs": [],
   "source": [
    "# archivo urls.py(creado por nosotros) dentro de la carpeta de la aplicacion\n",
    "from django.urls import include, path  \n",
    "from web_page_example import views\n",
    "\n",
    "urlpatterns=[\n",
    "    path(\"\", views.Home.as_view() ),\n",
    "    path(\"generic/\", views.Generic.as_view() ),\n",
    "    path(\"elements/\", views.Elements.as_view() )\n",
    "]\n"
   ]
  },
  {
   "cell_type": "markdown",
   "metadata": {},
   "source": [
    "Configuracion de vistas"
   ]
  },
  {
   "cell_type": "code",
   "execution_count": null,
   "metadata": {},
   "outputs": [],
   "source": [
    "from django.shortcuts import render\n",
    "\n",
    "def Home_view(request):\n",
    "    temp_context = {\n",
    "        \"client-name\":\"Filmoteca nacional\"\n",
    "    }\n",
    "    return render(request,\"index.html\",context=temp_context)"
   ]
  },
  {
   "cell_type": "markdown",
   "metadata": {},
   "source": [
    "Vistas basadas en clases"
   ]
  },
  {
   "cell_type": "code",
   "execution_count": null,
   "metadata": {},
   "outputs": [],
   "source": [
    "from django.shortcuts import render\n",
    "from django.views import View\n",
    "\n",
    "# Create your views here.\n",
    "class Home(View): # ['get', 'post', 'put', 'patch', 'delete', 'head', 'options', 'trace']\n",
    "    def get(self, request, **kargs):\n",
    "        return render(request, 'index.html', context=None)\n",
    "    def post(self, request, **kargs):\n",
    "        return render(request, 'index.html', context=None)\n",
    "    def put(self, request, **kargs):\n",
    "        return render(request, 'index.html', context=None)\n",
    "    def delete(self, request, **kargs):\n",
    "        return render(request, 'index.html', context=None)\n",
    "\n",
    "class Generic(View):\n",
    "    def get(self, request, **kargs):\n",
    "        return render(request, 'generic.html', context=None)\n",
    "\n",
    "class Elements(View):\n",
    "    def get(self, request, **kargs):\n",
    "        return render(request, 'elements.html', context=None)"
   ]
  },
  {
   "cell_type": "markdown",
   "metadata": {},
   "source": [
    "Vistas basadas en clases especializadas"
   ]
  },
  {
   "cell_type": "code",
   "execution_count": null,
   "metadata": {},
   "outputs": [],
   "source": [
    "from django.shortcuts import render\n",
    "from django.views.generic import TemplateView\n",
    "\n",
    "# Create your views here.\n",
    "class Home(TemplateView):\n",
    "    template_name = \"index.html\"\n",
    "\n",
    "class Generic(TemplateView):\n",
    "    template_name = 'generic.html'\n",
    "\n",
    "class Elements(TemplateView):\n",
    "    template_name = 'elements.html'"
   ]
  },
  {
   "cell_type": "code",
   "execution_count": null,
   "metadata": {},
   "outputs": [],
   "source": [
    "from django.utils import timezone\n",
    "from django.views.generic.list import ListView\n",
    "from articles.models import Article\n",
    "\n",
    "class ArticleListView(ListView):\n",
    "    model = Article\n",
    "    paginate_by = 100  # if pagination is desired\n",
    "\n",
    "    def get_context_data(self, **kwargs):\n",
    "        context = super().get_context_data(**kwargs)\n",
    "        context['now'] = timezone.now()\n",
    "        return context"
   ]
  },
  {
   "cell_type": "code",
   "execution_count": null,
   "metadata": {},
   "outputs": [],
   "source": [
    "\"https://docs.djangoproject.com/en/4.0/ref/class-based-views/\""
   ]
  },
  {
   "cell_type": "markdown",
   "metadata": {},
   "source": [
    "* Base views\n",
    "    * View\n",
    "    * TemplateView\n",
    "    * RedirectView\n",
    "* Generic display views\n",
    "    * DetailView\n",
    "    * ListView\n",
    "* Generic editing views\n",
    "    * FormView\n",
    "    * CreateView\n",
    "    * UpdateView\n",
    "    * DeleteView\n",
    "* Generic date views\n",
    "    * ArchiveIndexView\n",
    "    * YearArchiveView\n",
    "    * MonthArchiveView\n",
    "    * WeekArchiveView\n",
    "    * DayArchiveView\n",
    "    * TodayArchiveView\n",
    "    * DateDetailView\n",
    "* Class-based views mixins\n",
    "    * Simple mixins\n",
    "        * ContextMixin\n",
    "        * TemplateResponseMixin\n",
    "    * Single object mixins\n",
    "        * SingleObjectMixin\n",
    "        * SingleObjectTemplateResponseMixin\n",
    "    * Multiple object mixins\n",
    "        * MultipleObjectMixin\n",
    "        * MultipleObjectTemplateResponseMixin\n",
    "* Editing mixins\n",
    "    * FormMixin\n",
    "    * ModelFormMixin\n",
    "    * ProcessFormView\n",
    "    * DeletionMixin\n",
    "* Date-based mixins\n",
    "    * YearMixin\n",
    "    * MonthMixin\n",
    "    * DayMixin\n",
    "    * WeekMixin\n",
    "    * DateMixin"
   ]
  }
 ],
 "metadata": {
  "interpreter": {
   "hash": "3dd16a3d62d7f3116a380ff9b6ae2a7ec9a2ff7abe8f65a97b7769340c2f526d"
  },
  "kernelspec": {
   "display_name": "Python 3.6.8 ('env_cursos': venv)",
   "language": "python",
   "name": "python3"
  },
  "language_info": {
   "codemirror_mode": {
    "name": "ipython",
    "version": 3
   },
   "file_extension": ".py",
   "mimetype": "text/x-python",
   "name": "python",
   "nbconvert_exporter": "python",
   "pygments_lexer": "ipython3",
   "version": "3.6.8"
  },
  "orig_nbformat": 4
 },
 "nbformat": 4,
 "nbformat_minor": 2
}
