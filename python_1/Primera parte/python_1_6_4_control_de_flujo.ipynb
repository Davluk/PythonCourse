{
 "cells": [
  {
   "cell_type": "markdown",
   "metadata": {},
   "source": [
    "# Sentencias de control"
   ]
  },
  {
   "cell_type": "markdown",
   "metadata": {},
   "source": [
    "## if - elif - else"
   ]
  },
  {
   "cell_type": "code",
   "execution_count": 1,
   "metadata": {},
   "outputs": [
    {
     "name": "stdout",
     "output_type": "stream",
     "text": [
      "IRONMAN!\n"
     ]
    }
   ],
   "source": [
    "a= \"rojo\"\n",
    "if a == \"verde\":\n",
    "    print(\"HULK!\")\n",
    "elif(a == \"azul\"):\n",
    "    print(\"Capitan!\")\n",
    "elif(a == \"rojo\"):\n",
    "    print(\"IRONMAN!\")\n",
    "else:\n",
    "    print(\"HELP ME!\")"
   ]
  },
  {
   "cell_type": "markdown",
   "metadata": {},
   "source": [
    "## while"
   ]
  },
  {
   "cell_type": "code",
   "execution_count": 5,
   "metadata": {},
   "outputs": [
    {
     "name": "stdout",
     "output_type": "stream",
     "text": [
      "your life is: 100\n",
      "your life is: 90\n",
      "your life is: 80\n",
      "your life is: 70\n",
      "your life is: 60\n",
      "your life is: 50\n",
      "your life is: 40\n",
      "your life is: 30\n",
      "your life is: 20\n",
      "%%% CRITIC HEALTH! %%%%\n",
      "your life is: 10\n",
      "%%% CRITIC HEALTH! %%%%\n",
      "you are dead!\n"
     ]
    }
   ],
   "source": [
    "import time\n",
    "life = 100\n",
    "poison_damage_per_sec = 10\n",
    "while(life>0):\n",
    "    print(f\"your life is: {life}\")\n",
    "    if(life<=20):\n",
    "        print(\"%%% CRITIC HEALTH! %%%%\")\n",
    "    life-=poison_damage_per_sec\n",
    "    time.sleep(1)\n",
    "print(\"you are dead!\")"
   ]
  },
  {
   "cell_type": "markdown",
   "metadata": {},
   "source": [
    "## For"
   ]
  },
  {
   "cell_type": "code",
   "execution_count": 6,
   "metadata": {},
   "outputs": [
    {
     "name": "stdout",
     "output_type": "stream",
     "text": [
      "#\n",
      "#\n",
      "_\n",
      "_\n",
      "#\n",
      "#\n",
      "_\n",
      "_\n",
      "#\n",
      "#\n",
      "_\n",
      "_\n",
      "_\n",
      "_\n",
      "#\n",
      "#\n",
      "_\n",
      "_\n",
      "#\n",
      "#\n",
      "#\n",
      "#\n",
      "#\n",
      "#\n",
      "_\n",
      "_\n",
      "#\n",
      "#\n",
      "_\n",
      "_\n",
      "3\n",
      "4\n",
      "5\n",
      "6\n",
      "7\n",
      "8\n",
      "9\n"
     ]
    }
   ],
   "source": [
    "# for (int i=0;i<10;i++){\n",
    "    \n",
    "# }\n",
    "car = [\n",
    "    \"##__##\",\n",
    "    \"__##__\",\n",
    "    \"__##__\",\n",
    "    \"######\",\n",
    "    \"__##__\"\n",
    "]\n",
    "for row in car:\n",
    "    for char in row:\n",
    "        print(char)\n",
    "        \n",
    "for row in range(10):## [0,1,2,3,4,5,6,7,8,9]\n",
    "    print(row)"
   ]
  },
  {
   "cell_type": "markdown",
   "metadata": {},
   "source": [
    "## break - continue - else_loop"
   ]
  },
  {
   "cell_type": "code",
   "execution_count": 4,
   "metadata": {},
   "outputs": [
    {
     "name": "stdout",
     "output_type": "stream",
     "text": [
      "rojo\n",
      "amarillo\n",
      "azul\n",
      "morado\n",
      "neguro\n",
      "blanco\n",
      "we haven't found it!!!\n",
      "%%%%%%%%%%%%%%%%%%%%%\n",
      "rojo\n",
      "amarillo\n",
      "azul\n",
      "morado\n",
      "neguro\n",
      "blanco\n",
      "we haven't found it!!!\n"
     ]
    }
   ],
   "source": [
    "colors=[\"rojo\",\"verde\",\"amarillo\",\"azul\",\"morado\",\"neguro\",\"blanco\"]\n",
    "####################################\n",
    "for color in colors:\n",
    "    if color == \"verde\":\n",
    "        continue\n",
    "    elif color == \"negro\":\n",
    "        print(\"we've find it!!!\")\n",
    "        break\n",
    "    else:\n",
    "        print(color)\n",
    "else:\n",
    "    print(\"we haven't found it!!!\")\n",
    "print(\"%%%%%%%%%%%%%%%%%%%%%\")\n",
    "####################################\n",
    "for color in colors:\n",
    "    if color == \"verde\":\n",
    "        continue\n",
    "    elif color == \"cafe\":\n",
    "        break\n",
    "    else:\n",
    "        print(color)\n",
    "else:\n",
    "    print(\"we haven't found it!!!\")\n",
    "    \n",
    "    "
   ]
  },
  {
   "cell_type": "markdown",
   "metadata": {},
   "source": [
    "## pass"
   ]
  },
  {
   "cell_type": "code",
   "execution_count": 5,
   "metadata": {},
   "outputs": [],
   "source": [
    "## la funcion no hace nada, pero es necesario pass para que la falta de\n",
    "## contenido en la funcion no sea marcada como un error\n",
    "def temp_func():\n",
    "    pass"
   ]
  },
  {
   "cell_type": "markdown",
   "metadata": {},
   "source": [
    "## funciones"
   ]
  },
  {
   "cell_type": "code",
   "execution_count": 6,
   "metadata": {},
   "outputs": [
    {
     "name": "stdout",
     "output_type": "stream",
     "text": [
      "(1, 2, 3, 4) 2 3 4 4 5 6\n",
      "(5, 6, 7, 8)\n",
      "{'j': 5, 'l': 6, 'm': 7}\n",
      "0\n",
      "1\n",
      "1\n",
      "2\n",
      "3\n",
      "%%%%%%\n",
      "()\n",
      "{}\n",
      "0\n",
      "1\n",
      "1\n",
      "2\n",
      "3\n",
      "%%%%%%\n",
      "()\n",
      "{'n': 150}\n",
      "0\n",
      "1\n",
      "1\n",
      "2\n",
      "3\n",
      "5\n",
      "8\n",
      "13\n",
      "21\n",
      "34\n",
      "55\n",
      "89\n",
      "144\n",
      "%%%%%%\n"
     ]
    }
   ],
   "source": [
    "def fib(a,o=10,*argv,**kargv):\n",
    "    a,b = 0,1\n",
    "    print(argv)\n",
    "    print(kargv)\n",
    "    while a<o:\n",
    "        print(a)\n",
    "        a,b = b,a+b\n",
    "\n",
    "fib(5,5,6,7,8,j=5,l=6,m=7)\n",
    "print(\"%%%%%%\")\n",
    "abc = [1,2,3,4,5,6,7,8,9]\n",
    "fib(*abc)\n",
    "print(\"%%%%%%\")\n",
    "fib(5)\n",
    "print(\"%%%%%%\")\n",
    "fib(150,n=150)\n",
    "print(\"%%%%%%\")\n"
   ]
  },
  {
   "cell_type": "markdown",
   "metadata": {},
   "source": [
    "## lambda expressions"
   ]
  },
  {
   "cell_type": "code",
   "execution_count": 8,
   "metadata": {},
   "outputs": [
    {
     "name": "stdout",
     "output_type": "stream",
     "text": [
      "<class 'function'>\n",
      "532\n"
     ]
    }
   ],
   "source": [
    "f = lambda x: 5*x*x + 3*x + 2\n",
    "def g(y):\n",
    "    return 5*y*y + 3*y + 2\n",
    "print(f(10)) ##### 5*100 + 3*10 + 2 = 532"
   ]
  },
  {
   "cell_type": "markdown",
   "metadata": {},
   "source": []
  }
 ],
 "metadata": {
  "kernelspec": {
   "display_name": "Python 3",
   "language": "python",
   "name": "python3"
  },
  "language_info": {
   "codemirror_mode": {
    "name": "ipython",
    "version": 3
   },
   "file_extension": ".py",
   "mimetype": "text/x-python",
   "name": "python",
   "nbconvert_exporter": "python",
   "pygments_lexer": "ipython3",
   "version": "3.6.8"
  }
 },
 "nbformat": 4,
 "nbformat_minor": 4
}
