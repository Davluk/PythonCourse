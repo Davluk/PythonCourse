{
 "cells": [
  {
   "cell_type": "markdown",
   "metadata": {},
   "source": [
    "# Funciones sobre diccionarios"
   ]
  },
  {
   "cell_type": "code",
   "execution_count": 2,
   "metadata": {
    "tags": []
   },
   "outputs": [
    {
     "name": "stdout",
     "output_type": "stream",
     "text": [
      "{'uno': 2, 'tres': 4}\n"
     ]
    }
   ],
   "source": [
    "temp_dict= dict( [('uno',2),('tres',4)] )\n",
    "print(temp_dict)"
   ]
  },
  {
   "cell_type": "code",
   "execution_count": 4,
   "metadata": {
    "tags": []
   },
   "outputs": [
    {
     "name": "stdout",
     "output_type": "stream",
     "text": [
      "1:uno\n",
      "2:dos\n",
      "3:tres\n",
      "4:cuatro\n"
     ]
    }
   ],
   "source": [
    "for item,value in zip( [1,2,3,4],['uno','dos','tres','cuatro'] ):\n",
    "    print(f\"{item}:{value}\")"
   ]
  },
  {
   "cell_type": "code",
   "execution_count": 7,
   "metadata": {
    "tags": []
   },
   "outputs": [
    {
     "name": "stdout",
     "output_type": "stream",
     "text": [
      "uno:2\n",
      "tres:4\n",
      "<zip object at 0x00000101C9C49688>\n"
     ]
    }
   ],
   "source": [
    "for item,value in zip( temp_dict.keys(),temp_dict.values() ):\n",
    "    print(f\"{item}:{value}\")\n",
    "\n",
    "print(zip( temp_dict.keys(),temp_dict.values() ))"
   ]
  },
  {
   "cell_type": "code",
   "execution_count": 8,
   "metadata": {
    "tags": []
   },
   "outputs": [
    {
     "name": "stdout",
     "output_type": "stream",
     "text": [
      "uno:2\n",
      "tres:4\n",
      "dict_items([('uno', 2), ('tres', 4)])\n"
     ]
    }
   ],
   "source": [
    "for item,value in temp_dict.items():\n",
    "    print(f\"{item}:{value}\")\n",
    "print(temp_dict.items())"
   ]
  },
  {
   "cell_type": "code",
   "execution_count": 9,
   "metadata": {
    "tags": []
   },
   "outputs": [
    {
     "name": "stdout",
     "output_type": "stream",
     "text": [
      "{'uno': 5, 'tres': 4}\n",
      "{'uno': 6, 'tres': 4}\n"
     ]
    }
   ],
   "source": [
    "dict_copy= temp_dict.copy()\n",
    "dict_copy['uno']= 5\n",
    "temp_dict['cinco']= 6\n",
    "print(dict_copy)\n",
    "print(temp_dict)"
   ]
  },
  {
   "cell_type": "code",
   "execution_count": null,
   "metadata": {},
   "outputs": [],
   "source": []
  }
 ],
 "metadata": {
  "kernelspec": {
   "display_name": "Python 3",
   "language": "python",
   "name": "python3"
  },
  "language_info": {
   "codemirror_mode": {
    "name": "ipython",
    "version": 3
   },
   "file_extension": ".py",
   "mimetype": "text/x-python",
   "name": "python",
   "nbconvert_exporter": "python",
   "pygments_lexer": "ipython3",
   "version": "3.8.5"
  }
 },
 "nbformat": 4,
 "nbformat_minor": 4
}
